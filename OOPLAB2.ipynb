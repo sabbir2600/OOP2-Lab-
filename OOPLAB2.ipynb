{
  "nbformat": 4,
  "nbformat_minor": 0,
  "metadata": {
    "colab": {
      "name": "Untitled0.ipynb",
      "provenance": [],
      "authorship_tag": "ABX9TyM3U5u3DCbFO2TZpRwBncRR",
      "include_colab_link": true
    },
    "kernelspec": {
      "name": "python3",
      "display_name": "Python 3"
    }
  },
  "cells": [
    {
      "cell_type": "markdown",
      "metadata": {
        "id": "view-in-github",
        "colab_type": "text"
      },
      "source": [
        "<a href=\"https://colab.research.google.com/github/sabbir2600/OOP2-Lab-/blob/main/OOPLAB2.ipynb\" target=\"_parent\"><img src=\"https://colab.research.google.com/assets/colab-badge.svg\" alt=\"Open In Colab\"/></a>"
      ]
    },
    {
      "cell_type": "markdown",
      "metadata": {
        "id": "baZgDzPMsdEH"
      },
      "source": [
        "#\"First Programme in Python\""
      ]
    },
    {
      "cell_type": "code",
      "metadata": {
        "id": "6w72vXLSsamA",
        "outputId": "65cde2f3-4804-4a64-be5e-bf29b5aa0e40",
        "colab": {
          "base_uri": "https://localhost:8080/",
          "height": 34
        }
      },
      "source": [
        "print(\"Sabbir\")\n"
      ],
      "execution_count": 2,
      "outputs": [
        {
          "output_type": "stream",
          "text": [
            "Sabbir\n"
          ],
          "name": "stdout"
        }
      ]
    },
    {
      "cell_type": "markdown",
      "metadata": {
        "id": "3BDl5ZWotDbE"
      },
      "source": [
        "Variables and Assignment statements\n",
        "\n"
      ]
    },
    {
      "cell_type": "code",
      "metadata": {
        "id": "Vla4iHGytLqv",
        "outputId": "975e532f-3631-400e-bcad-0c96169069d0",
        "colab": {
          "base_uri": "https://localhost:8080/",
          "height": 34
        }
      },
      "source": [
        "m=4\n",
        "n=6\n",
        "print(m+n)"
      ],
      "execution_count": 1,
      "outputs": [
        {
          "output_type": "stream",
          "text": [
            "10\n"
          ],
          "name": "stdout"
        }
      ]
    },
    {
      "cell_type": "code",
      "metadata": {
        "id": "Fp4u55o5tiwP",
        "outputId": "1d17b7a9-e4fb-45d9-8389-18c159105cda",
        "colab": {
          "base_uri": "https://localhost:8080/",
          "height": 34
        }
      },
      "source": [
        "name=\"Sabbir\"\n",
        "name2=\"Ahamed\"\n",
        "print(name,name2)"
      ],
      "execution_count": 3,
      "outputs": [
        {
          "output_type": "stream",
          "text": [
            "Sabbir Ahamed\n"
          ],
          "name": "stdout"
        }
      ]
    },
    {
      "cell_type": "markdown",
      "metadata": {
        "id": "GYa7XdlXt593"
      },
      "source": [
        "Type"
      ]
    },
    {
      "cell_type": "code",
      "metadata": {
        "id": "_lkcua71uY5E",
        "outputId": "a9ac0b35-80b6-48c5-c2eb-aa017ea21ee8",
        "colab": {
          "base_uri": "https://localhost:8080/",
          "height": 34
        }
      },
      "source": [
        "\n",
        "m=20\n",
        "type(m)"
      ],
      "execution_count": 4,
      "outputs": [
        {
          "output_type": "execute_result",
          "data": {
            "text/plain": [
              "int"
            ]
          },
          "metadata": {
            "tags": []
          },
          "execution_count": 4
        }
      ]
    },
    {
      "cell_type": "code",
      "metadata": {
        "id": "JWCoU1Mqwt5g",
        "outputId": "f9cbaec4-1707-4683-88cb-139d1e68ae12",
        "colab": {
          "base_uri": "https://localhost:8080/",
          "height": 34
        }
      },
      "source": [
        "type(3.1416)\n"
      ],
      "execution_count": 5,
      "outputs": [
        {
          "output_type": "execute_result",
          "data": {
            "text/plain": [
              "float"
            ]
          },
          "metadata": {
            "tags": []
          },
          "execution_count": 5
        }
      ]
    },
    {
      "cell_type": "code",
      "metadata": {
        "id": "MZul7kIgwxHf",
        "outputId": "383232c9-1e38-44b6-a245-972a56e72ad3",
        "colab": {
          "base_uri": "https://localhost:8080/",
          "height": 34
        }
      },
      "source": [
        "type(name)\n"
      ],
      "execution_count": 6,
      "outputs": [
        {
          "output_type": "execute_result",
          "data": {
            "text/plain": [
              "str"
            ]
          },
          "metadata": {
            "tags": []
          },
          "execution_count": 6
        }
      ]
    },
    {
      "cell_type": "markdown",
      "metadata": {
        "id": "P6qVfPRgw3IQ"
      },
      "source": [
        "Arithmetic operators\n",
        "\n"
      ]
    },
    {
      "cell_type": "code",
      "metadata": {
        "id": "nqnSUEzXw6FV",
        "outputId": "71578e32-7425-4ef4-c877-ad350a1a1796",
        "colab": {
          "base_uri": "https://localhost:8080/",
          "height": 34
        }
      },
      "source": [
        "sum=10+10\n",
        "print(sum)"
      ],
      "execution_count": 7,
      "outputs": [
        {
          "output_type": "stream",
          "text": [
            "20\n"
          ],
          "name": "stdout"
        }
      ]
    },
    {
      "cell_type": "code",
      "metadata": {
        "id": "xbALspuIxIt0",
        "outputId": "cca50ed5-fec0-48a3-9d2d-0935e7f73349",
        "colab": {
          "base_uri": "https://localhost:8080/",
          "height": 34
        }
      },
      "source": [
        "sub=10-20\n",
        "print(sub)"
      ],
      "execution_count": 8,
      "outputs": [
        {
          "output_type": "stream",
          "text": [
            "-10\n"
          ],
          "name": "stdout"
        }
      ]
    },
    {
      "cell_type": "code",
      "metadata": {
        "id": "QG-tBcexxObz",
        "outputId": "95482293-c99c-44c7-fc81-502e6cbd5a85",
        "colab": {
          "base_uri": "https://localhost:8080/",
          "height": 34
        }
      },
      "source": [
        "multi=5*5\n",
        "print(multi)"
      ],
      "execution_count": 9,
      "outputs": [
        {
          "output_type": "stream",
          "text": [
            "25\n"
          ],
          "name": "stdout"
        }
      ]
    },
    {
      "cell_type": "code",
      "metadata": {
        "id": "GbYLiGA2xSlZ",
        "outputId": "cdb561b0-44d9-4b0c-86fa-c2d7528cb578",
        "colab": {
          "base_uri": "https://localhost:8080/",
          "height": 34
        }
      },
      "source": [
        "exponentiation=20**2\n",
        "print(exponentiation)"
      ],
      "execution_count": 10,
      "outputs": [
        {
          "output_type": "stream",
          "text": [
            "400\n"
          ],
          "name": "stdout"
        }
      ]
    },
    {
      "cell_type": "markdown",
      "metadata": {
        "id": "npXrOiVoxWrG"
      },
      "source": [
        "True division vs Floor divition\n",
        "\n"
      ]
    },
    {
      "cell_type": "code",
      "metadata": {
        "id": "fgMU7x-oxYcF",
        "outputId": "10d171e8-701a-495d-88e7-f580aa6fe4c0",
        "colab": {
          "base_uri": "https://localhost:8080/",
          "height": 34
        }
      },
      "source": [
        "True_division=6/5\n",
        "print(True_division)"
      ],
      "execution_count": 11,
      "outputs": [
        {
          "output_type": "stream",
          "text": [
            "1.2\n"
          ],
          "name": "stdout"
        }
      ]
    },
    {
      "cell_type": "code",
      "metadata": {
        "id": "LLUDPQACxeqf",
        "outputId": "c44f4b36-c87b-4bf0-b390-0c75541bbc39",
        "colab": {
          "base_uri": "https://localhost:8080/",
          "height": 34
        }
      },
      "source": [
        "Floor_division=6//5\n",
        "print(Floor_division)"
      ],
      "execution_count": 12,
      "outputs": [
        {
          "output_type": "stream",
          "text": [
            "1\n"
          ],
          "name": "stdout"
        }
      ]
    },
    {
      "cell_type": "code",
      "metadata": {
        "id": "L10OzfIBxocI",
        "outputId": "3183879a-3a7e-4657-a08f-64544f84166f",
        "colab": {
          "base_uri": "https://localhost:8080/",
          "height": 34
        }
      },
      "source": [
        "remainder=14%7\n",
        "print(remainder)"
      ],
      "execution_count": 14,
      "outputs": [
        {
          "output_type": "stream",
          "text": [
            "0\n"
          ],
          "name": "stdout"
        }
      ]
    },
    {
      "cell_type": "markdown",
      "metadata": {
        "id": "qnj5PQ6NynPB"
      },
      "source": [
        "IF STATEMENT\n",
        "\n"
      ]
    },
    {
      "cell_type": "code",
      "metadata": {
        "id": "VnvInPERyogl",
        "outputId": "144c1274-0904-4e6c-8851-683533a63df7",
        "colab": {
          "base_uri": "https://localhost:8080/",
          "height": 34
        }
      },
      "source": [
        "mark=80\n",
        "if mark>=60:\n",
        "  print(\"passed\")"
      ],
      "execution_count": 15,
      "outputs": [
        {
          "output_type": "stream",
          "text": [
            "passed\n"
          ],
          "name": "stdout"
        }
      ]
    },
    {
      "cell_type": "markdown",
      "metadata": {
        "id": "LodOnpTjytiZ"
      },
      "source": [
        "IF ELSE STATEMENT\n",
        "\n"
      ]
    },
    {
      "cell_type": "code",
      "metadata": {
        "id": "K8fBAzEozFGd",
        "outputId": "a4c330f1-aac4-4b44-8190-cf988103991d",
        "colab": {
          "base_uri": "https://localhost:8080/",
          "height": 52
        }
      },
      "source": [
        "mark=int(input(\"Enter the mark: \"))\n",
        "if mark>=60:\n",
        "  print(\"passed\")\n",
        "else:\n",
        "   print(\"Fail\")"
      ],
      "execution_count": 17,
      "outputs": [
        {
          "output_type": "stream",
          "text": [
            "Enter the mark: 30\n",
            "Fail\n"
          ],
          "name": "stdout"
        }
      ]
    },
    {
      "cell_type": "markdown",
      "metadata": {
        "id": "EK0Fw_AvzeDK"
      },
      "source": [
        "CONDITIONAL EXPRESION¶\n"
      ]
    },
    {
      "cell_type": "code",
      "metadata": {
        "id": "HY0wIleuzfLM",
        "outputId": "bbe8c7f5-5f13-4d56-89d5-aaa8207cc8df",
        "colab": {
          "base_uri": "https://localhost:8080/",
          "height": 34
        }
      },
      "source": [
        "result=('passed' if mark>=60 else 'Failed')\n",
        "print(result)"
      ],
      "execution_count": 18,
      "outputs": [
        {
          "output_type": "stream",
          "text": [
            "Failed\n"
          ],
          "name": "stdout"
        }
      ]
    },
    {
      "cell_type": "markdown",
      "metadata": {
        "id": "H9Ae7fjEz-xZ"
      },
      "source": [
        "IF...ELIF..ELSE STATEMENT\n",
        "\n"
      ]
    },
    {
      "cell_type": "code",
      "metadata": {
        "id": "FlDUEte-0JFm",
        "outputId": "fe7ba205-a612-44d1-c079-e54450fe4448",
        "colab": {
          "base_uri": "https://localhost:8080/",
          "height": 52
        }
      },
      "source": [
        "mark=int(input(\"Enter the marks: \"))\n",
        "if mark>=80:\n",
        "   print('A+')\n",
        "elif mark>=75:\n",
        "  print('A')\n",
        "elif mark>=70:\n",
        "  print('A-')\n",
        "elif mark>=65:\n",
        "   print('B+')\n",
        "elif mark>=60:\n",
        "  print('B')\n",
        "elif mark>=55:\n",
        "  print('C+')\n",
        "elif mark>=50:\n",
        "  print('C')\n",
        "elif mark>=45:\n",
        "  print('D+')\n",
        "elif mark>=40:\n",
        "  print('D')\n",
        "else:\n",
        "  print('F')"
      ],
      "execution_count": 19,
      "outputs": [
        {
          "output_type": "stream",
          "text": [
            "Enter the marks: 40\n",
            "D\n"
          ],
          "name": "stdout"
        }
      ]
    },
    {
      "cell_type": "markdown",
      "metadata": {
        "id": "UqkFYnU60S_D"
      },
      "source": [
        "WHILE STATEMENT\n",
        "\n"
      ]
    },
    {
      "cell_type": "code",
      "metadata": {
        "id": "UU_HRRno0T48",
        "outputId": "9829fd8c-37c4-413c-fed4-04f436d9c159",
        "colab": {
          "base_uri": "https://localhost:8080/",
          "height": 52
        }
      },
      "source": [
        "\n",
        "num=int(input(\"Enter the number: \"))\n",
        "while (num<=10):\n",
        "  print(num, end=\" \")\n",
        "  num+=1"
      ],
      "execution_count": 20,
      "outputs": [
        {
          "output_type": "stream",
          "text": [
            "Enter the number: 1\n",
            "1 2 3 4 5 6 7 8 9 10 "
          ],
          "name": "stdout"
        }
      ]
    },
    {
      "cell_type": "markdown",
      "metadata": {
        "id": "TkUbuH7R0b7y"
      },
      "source": [
        "while statement to find the first power of 3 larger than 50:\n",
        "\n"
      ]
    },
    {
      "cell_type": "code",
      "metadata": {
        "id": "wseVKo_e0csg",
        "outputId": "002179ba-2752-4237-99cb-45d07ff689b4",
        "colab": {
          "base_uri": "https://localhost:8080/",
          "height": 52
        }
      },
      "source": [
        "product =int(input(\"Enter the number: \"))\n",
        "\n",
        "while product<=50:\n",
        "  product = product*3\n",
        "print(product)"
      ],
      "execution_count": 22,
      "outputs": [
        {
          "output_type": "stream",
          "text": [
            "Enter the number: 3\n",
            "81\n"
          ],
          "name": "stdout"
        }
      ]
    },
    {
      "cell_type": "markdown",
      "metadata": {
        "id": "br0A65V_0nY2"
      },
      "source": [
        "For statement\n",
        "\n"
      ]
    },
    {
      "cell_type": "code",
      "metadata": {
        "id": "cNRR7dLW1D4V",
        "outputId": "6f872883-0fad-42d2-d29e-fa6378c482a9",
        "colab": {
          "base_uri": "https://localhost:8080/",
          "height": 34
        }
      },
      "source": [
        "for character in \"Sabbir\":\n",
        "  print(character, end=\" \")"
      ],
      "execution_count": 25,
      "outputs": [
        {
          "output_type": "stream",
          "text": [
            "S a b b i r "
          ],
          "name": "stdout"
        }
      ]
    },
    {
      "cell_type": "code",
      "metadata": {
        "id": "hM0CKYuk13Xw",
        "outputId": "0b61aa9f-10f4-46fb-8d36-2baf70b3f6bf",
        "colab": {
          "base_uri": "https://localhost:8080/",
          "height": 185
        }
      },
      "source": [
        "for i in range(1,11):\n",
        "  print(number,\"X\",i,\"=\",number*i)"
      ],
      "execution_count": 28,
      "outputs": [
        {
          "output_type": "error",
          "ename": "NameError",
          "evalue": "ignored",
          "traceback": [
            "\u001b[0;31m---------------------------------------------------------------------------\u001b[0m",
            "\u001b[0;31mNameError\u001b[0m                                 Traceback (most recent call last)",
            "\u001b[0;32m<ipython-input-28-c2498201a892>\u001b[0m in \u001b[0;36m<module>\u001b[0;34m()\u001b[0m\n\u001b[1;32m      1\u001b[0m \u001b[0;32mfor\u001b[0m \u001b[0mi\u001b[0m \u001b[0;32min\u001b[0m \u001b[0mrange\u001b[0m\u001b[0;34m(\u001b[0m\u001b[0;36m1\u001b[0m\u001b[0;34m,\u001b[0m\u001b[0;36m11\u001b[0m\u001b[0;34m)\u001b[0m\u001b[0;34m:\u001b[0m\u001b[0;34m\u001b[0m\u001b[0;34m\u001b[0m\u001b[0m\n\u001b[0;32m----> 2\u001b[0;31m   \u001b[0mprint\u001b[0m\u001b[0;34m(\u001b[0m\u001b[0mnumber\u001b[0m\u001b[0;34m,\u001b[0m\u001b[0;34m\"X\"\u001b[0m\u001b[0;34m,\u001b[0m\u001b[0mi\u001b[0m\u001b[0;34m,\u001b[0m\u001b[0;34m\"=\"\u001b[0m\u001b[0;34m,\u001b[0m\u001b[0mnumber\u001b[0m\u001b[0;34m*\u001b[0m\u001b[0mi\u001b[0m\u001b[0;34m)\u001b[0m\u001b[0;34m\u001b[0m\u001b[0;34m\u001b[0m\u001b[0m\n\u001b[0m",
            "\u001b[0;31mNameError\u001b[0m: name 'number' is not defined"
          ]
        }
      ]
    },
    {
      "cell_type": "markdown",
      "metadata": {
        "id": "OwH_9keH2ft9"
      },
      "source": [
        "Built in Range Function\n",
        "\n"
      ]
    },
    {
      "cell_type": "code",
      "metadata": {
        "id": "lfifFkjx2iXe",
        "outputId": "9566383b-ad61-4832-bd45-c2602af9c94c",
        "colab": {
          "base_uri": "https://localhost:8080/",
          "height": 34
        }
      },
      "source": [
        "\n",
        "for counter in range(10):\n",
        "  print(counter, end=\" \")"
      ],
      "execution_count": 30,
      "outputs": [
        {
          "output_type": "stream",
          "text": [
            "0 1 2 3 4 5 6 7 8 9 "
          ],
          "name": "stdout"
        }
      ]
    },
    {
      "cell_type": "markdown",
      "metadata": {
        "id": "DhYtGAEa2qHC"
      },
      "source": [
        "Nested For Loop\n",
        "\n"
      ]
    },
    {
      "cell_type": "code",
      "metadata": {
        "id": "L3mK-j4m2qy9",
        "outputId": "451019e1-853d-493e-d9ea-c5765173955b",
        "colab": {
          "base_uri": "https://localhost:8080/",
          "height": 158
        }
      },
      "source": [
        "n=int(input(\"Enter the number: \"))\n",
        "for left in range(n):\n",
        "    for right in range(left,n):\n",
        "        print(\"[\"+str(left)+\"|\"+str(right)+\"]\", end =\" \")\n",
        "    print()"
      ],
      "execution_count": 31,
      "outputs": [
        {
          "output_type": "stream",
          "text": [
            "Enter the number: 7\n",
            "[0|0] [0|1] [0|2] [0|3] [0|4] [0|5] [0|6] \n",
            "[1|1] [1|2] [1|3] [1|4] [1|5] [1|6] \n",
            "[2|2] [2|3] [2|4] [2|5] [2|6] \n",
            "[3|3] [3|4] [3|5] [3|6] \n",
            "[4|4] [4|5] [4|6] \n",
            "[5|5] [5|6] \n",
            "[6|6] \n"
          ],
          "name": "stdout"
        }
      ]
    },
    {
      "cell_type": "markdown",
      "metadata": {
        "id": "vPuExTXx2xm-"
      },
      "source": [
        "Break statement\n",
        "\n"
      ]
    },
    {
      "cell_type": "code",
      "metadata": {
        "id": "H3iCuyFL2y7X",
        "outputId": "7adb7d40-d0db-4951-b2a9-9437b0aa6dda",
        "colab": {
          "base_uri": "https://localhost:8080/",
          "height": 52
        }
      },
      "source": [
        "n=int(input(\"Enter the number: \"))\n",
        "for number in range(n):\n",
        "  if  number==5:\n",
        "    break\n",
        "  print(number, end=\" \")"
      ],
      "execution_count": 32,
      "outputs": [
        {
          "output_type": "stream",
          "text": [
            "Enter the number: 10\n",
            "0 1 2 3 4 "
          ],
          "name": "stdout"
        }
      ]
    },
    {
      "cell_type": "markdown",
      "metadata": {
        "id": "lHW651rN25Pe"
      },
      "source": [
        "Continue statement\n",
        "\n"
      ]
    },
    {
      "cell_type": "code",
      "metadata": {
        "id": "hbodibg226G8",
        "outputId": "29b0a59b-ebea-485e-febd-6d4e565d2db4",
        "colab": {
          "base_uri": "https://localhost:8080/",
          "height": 52
        }
      },
      "source": [
        "n=int(input(\"Enter the range: \"))\n",
        "for number in range(n):\n",
        "  if  number==5:\n",
        "    continue\n",
        "  print(number, end=\" \")"
      ],
      "execution_count": 33,
      "outputs": [
        {
          "output_type": "stream",
          "text": [
            "Enter the range: 10\n",
            "0 1 2 3 4 6 7 8 9 "
          ],
          "name": "stdout"
        }
      ]
    },
    {
      "cell_type": "markdown",
      "metadata": {
        "id": "gm-Y8lPl3A5R"
      },
      "source": [
        "uri problem solve Extremely basic\n",
        "\n"
      ]
    },
    {
      "cell_type": "code",
      "metadata": {
        "id": "c3KqXpQN3Jxg",
        "outputId": "2cd01d3b-b02b-4bc3-a458-3f16d45420c6",
        "colab": {
          "base_uri": "https://localhost:8080/",
          "height": 70
        }
      },
      "source": [
        "m1 = int(input())\n",
        "m2 = int(input())\n",
        "x = m1 + m2\n",
        "print(\"X = %i\"% x)"
      ],
      "execution_count": 36,
      "outputs": [
        {
          "output_type": "stream",
          "text": [
            "10\n",
            "9\n",
            "X = 19\n"
          ],
          "name": "stdout"
        }
      ]
    },
    {
      "cell_type": "markdown",
      "metadata": {
        "id": "II4IlTqH3ZM2"
      },
      "source": [
        "uri problem Area of circle\n",
        "\n"
      ]
    },
    {
      "cell_type": "code",
      "metadata": {
        "id": "Quwv9OJx3a4x",
        "outputId": "0dca951a-1395-4d8f-e23a-7cedd178dd36",
        "colab": {
          "base_uri": "https://localhost:8080/",
          "height": 52
        }
      },
      "source": [
        "raio=float(input())\n",
        "\n",
        "area=(raio*raio)*3.1416\n",
        "print(\"A=%0.4f\"%area)"
      ],
      "execution_count": 37,
      "outputs": [
        {
          "output_type": "stream",
          "text": [
            "2\n",
            "A=12.5664\n"
          ],
          "name": "stdout"
        }
      ]
    },
    {
      "cell_type": "markdown",
      "metadata": {
        "id": "GzwhcC233p3E"
      },
      "source": [
        "uri problem solveDifference\n",
        "\n"
      ]
    },
    {
      "cell_type": "code",
      "metadata": {
        "id": "vTBTIBSu4OvU",
        "outputId": "8b0075cc-7278-4bf4-dc02-2cebc0299d49",
        "colab": {
          "base_uri": "https://localhost:8080/",
          "height": 105
        }
      },
      "source": [
        "m1= int(input())\n",
        "m2= int(input())\n",
        "m3= int(input())\n",
        "m4= int(input())\n",
        "\n",
        "difference=((m1 * m2) - (m3 * m4))\n",
        "\n",
        "print(\"DIFERENCA = %d\" %difference)\n"
      ],
      "execution_count": 39,
      "outputs": [
        {
          "output_type": "stream",
          "text": [
            "5\n",
            "6\n",
            "7\n",
            "8\n",
            "DIFERENCA = -26\n"
          ],
          "name": "stdout"
        }
      ]
    },
    {
      "cell_type": "markdown",
      "metadata": {
        "id": "twmZYCyc4WcQ"
      },
      "source": [
        "Age in Days uri problem solve\n",
        "\n"
      ]
    },
    {
      "cell_type": "code",
      "metadata": {
        "id": "pqjNPKlY4aWc",
        "outputId": "f206bac3-c13d-4c82-ee1e-d051455ac3f3",
        "colab": {
          "base_uri": "https://localhost:8080/",
          "height": 87
        }
      },
      "source": [
        "n= int(input())\n",
        "a = n / 365\n",
        "rA = n % 365\n",
        "rM = rA % 30\n",
        "m = rA / 30\n",
        "d = rM % 30\n",
        "print(\"{} ano(s)\".format(int(a)))\n",
        "print(\"{} mes(es)\".format(int(m)))\n",
        "print(\"{} dia(s)\".format(int(d)))"
      ],
      "execution_count": 40,
      "outputs": [
        {
          "output_type": "stream",
          "text": [
            "400\n",
            "1 ano(s)\n",
            "1 mes(es)\n",
            "5 dia(s)\n"
          ],
          "name": "stdout"
        }
      ]
    }
  ]
}